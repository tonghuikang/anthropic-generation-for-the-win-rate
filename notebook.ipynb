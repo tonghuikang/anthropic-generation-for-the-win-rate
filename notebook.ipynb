{
 "cells": [
  {
   "cell_type": "markdown",
   "id": "61cc57a9",
   "metadata": {},
   "source": [
    "# Convert your judge into a generation prompt\n",
    "\n",
    "Given\n",
    "- a certified judge classifier `JUDGE_CLASSIFICATION_PROMPT: str`\n",
    "- some input string data samples `INPUT_CONTENTS: tuple[str]`\n",
    "- initial prompt `INITIAL_GENERATION_PROMPT: str`\n",
    "\n",
    "Produce\n",
    "- a prompt with a good winrate (measured by the judge) against other prompts"
   ]
  },
  {
   "cell_type": "markdown",
   "id": "c55818b2",
   "metadata": {},
   "source": [
    "## Foreword\n",
    "\n",
    "If you can't verify what is good or what is bad, you can't make good generations.\n",
    "\n",
    "But if you can verify, you should easily be able to make good generations - and this tool helps you write this prompt.\n",
    "\n",
    "\n",
    "#### Inspirations\n",
    "\n",
    "- Cohere prompt tuner https://cohere.com/blog/intro-prompt-tuner\n",
    "- Anthropic workbench https://console.anthropic.com/workbench/\n",
    "- Chatbot Arena leaderboard https://lmarena.ai/"
   ]
  },
  {
   "cell_type": "markdown",
   "id": "70e0aacb",
   "metadata": {},
   "source": [
    "## Example use case presented in this notebook\n",
    "\n",
    "Given a Quora answer, write followup questions to the answer.\n",
    "\n",
    "Great followup questions should be appealing to respond to and answers should be appealing to read.\n",
    "\n",
    "The inputs for this use case\n",
    "- `JUDGE_CLASSIFICATION_PROMPT: str` - prompt that classifies whether one set of prompts is better than the other\n",
    "- `INPUT_CONTENTS: tuple[str]` - Quora answers\n",
    "- `INITIAL_GENERATION_PROMPT: str` - prompt that generates followup questions\n",
    "\n",
    "Produce\n",
    "- a prompt with a good winrate (measured by the judge) against other prompts"
   ]
  },
  {
   "cell_type": "markdown",
   "id": "8d93eac0",
   "metadata": {},
   "source": [
    "## Frequently asked questions\n",
    "\n",
    "Why don't you include `JUDGE_CLASSIFICATION_PROMPT` in the generation prompt?\n",
    "- You can if you want. But the result still needs to perform better according to the judge.\n",
    "- I expect models in the future to be brainstorming responses and then think carefully which is the response is the best. However, doing so will incur extra cost and latency, and we might not want this tradeoff.\n",
    "- The idea of prompt engineering for the generation prompt is to teach the model shortcuts on what good outputs are.\n",
    "\n",
    "Why don't you tune the `JUDGE_CLASSIFICATION_PROMPT` as well?\n",
    "- In this tool we assume that we trust `JUDGE_CLASSIFICATION_PROMPT`.\n",
    "- It is important to get this right. You should tune this, and tune this elsewhere.\n",
    "- In practice we do want to provide feedback to point out where the judge is obviously wrong. I leave this to the roadmap.\n",
    "\n",
    "Why is the `JUDGE_CLASSIFICATION_PROMPT` doing comparison of two generation outputs instead of classifying whether one is good?\n",
    "- For some answers it is easy to generate good followup questions but tricky to generate great followup questions.\n",
    "- In other answers it may be even difficult to generate followup questions that are not outright bad.\n",
    "- I want the judge to be useful in both cases."
   ]
  },
  {
   "cell_type": "markdown",
   "id": "f79cf20a",
   "metadata": {},
   "source": [
    "# TODO\n",
    "\n",
    "- Print intermediate results to html\n",
    "- Improve the optimization prompt\n",
    "- Make the optimization prompt write all of system prompt, user prompt and assistant prefill"
   ]
  },
  {
   "cell_type": "code",
   "execution_count": 1,
   "id": "5054494e",
   "metadata": {},
   "outputs": [],
   "source": [
    "from functools import cache\n",
    "\n",
    "import anthropic\n",
    "client = anthropic.Anthropic()"
   ]
  },
  {
   "cell_type": "markdown",
   "id": "afad7bf3",
   "metadata": {},
   "source": [
    "# Inputs for the tool user"
   ]
  },
  {
   "cell_type": "code",
   "execution_count": 2,
   "id": "eb3864a2",
   "metadata": {},
   "outputs": [],
   "source": [
    "import pandas as pd\n",
    "df = pd.read_csv(\"content.csv\").head(5)"
   ]
  },
  {
   "cell_type": "code",
   "execution_count": 3,
   "id": "36794536",
   "metadata": {},
   "outputs": [
    {
     "data": {
      "text/html": [
       "<div>\n",
       "<style scoped>\n",
       "    .dataframe tbody tr th:only-of-type {\n",
       "        vertical-align: middle;\n",
       "    }\n",
       "\n",
       "    .dataframe tbody tr th {\n",
       "        vertical-align: top;\n",
       "    }\n",
       "\n",
       "    .dataframe thead th {\n",
       "        text-align: right;\n",
       "    }\n",
       "</style>\n",
       "<table border=\"1\" class=\"dataframe\">\n",
       "  <thead>\n",
       "    <tr style=\"text-align: right;\">\n",
       "      <th></th>\n",
       "      <th>content</th>\n",
       "    </tr>\n",
       "  </thead>\n",
       "  <tbody>\n",
       "    <tr>\n",
       "      <th>0</th>\n",
       "      <td>Why do AI image generators have so much troubl...</td>\n",
       "    </tr>\n",
       "    <tr>\n",
       "      <th>1</th>\n",
       "      <td>At what point do you consider an LLM to have a...</td>\n",
       "    </tr>\n",
       "  </tbody>\n",
       "</table>\n",
       "</div>"
      ],
      "text/plain": [
       "                                             content\n",
       "0  Why do AI image generators have so much troubl...\n",
       "1  At what point do you consider an LLM to have a..."
      ]
     },
     "execution_count": 3,
     "metadata": {},
     "output_type": "execute_result"
    }
   ],
   "source": [
    "df.head(2)"
   ]
  },
  {
   "cell_type": "code",
   "execution_count": 4,
   "id": "301bbf86",
   "metadata": {},
   "outputs": [],
   "source": [
    "INPUT_CONTENTS: tuple[str] = tuple(df[\"content\"])"
   ]
  },
  {
   "cell_type": "code",
   "execution_count": 5,
   "id": "9af58c33",
   "metadata": {},
   "outputs": [],
   "source": [
    "INITIAL_GENERATION_PROMPT = \"\"\"\n",
    "You are given the following source question and a source answer.\n",
    "\n",
    "<source_question_and_answer>\n",
    "{input_content}\n",
    "</source_question_and_answer>\n",
    "\n",
    "Write 5 followup questions to the answer.\n",
    "\n",
    "Reply in this format \n",
    "\n",
    "<questions>\n",
    "\n",
    "<question>\n",
    "question\n",
    "<question>\n",
    "\n",
    "...\n",
    "\n",
    "</questions>\n",
    "\"\"\".strip()"
   ]
  },
  {
   "cell_type": "code",
   "execution_count": 6,
   "id": "c2400fe4",
   "metadata": {},
   "outputs": [],
   "source": [
    "JUDGE_CLASSIFICATION_PROMPT = \"\"\"\n",
    "You are given an answer and two sets of followup questions.\n",
    "\n",
    "Determine which set of followup questions is better.\n",
    "\n",
    "These are required\n",
    "- Each question should appear between <question> and </question>\n",
    "- There should be 5 questions\n",
    "\n",
    "The followup questions are considered bad if they have any of these characteristics\n",
    "- There ambiguous references in the question that cannot be understood without context\n",
    "- The question is using extra words than necessary\n",
    "\n",
    "If both set of questions have neither of the bad characteristics, the better set of followup questions should have these characteristics\n",
    "- Each question should be distinct\n",
    "- The questions ask for knowledge that is not easily found online\n",
    "- The author is likely to answer the questions\n",
    "- People interested in the source question and answer will also be interested in answers to the followup questions\n",
    "\n",
    "This is the source question and source answer\n",
    "<source_question_and_answer>\n",
    "{input_content}\n",
    "</source_question_and_answer>\n",
    "\n",
    "This is the first set of followup questions\n",
    "\n",
    "{response_one}\n",
    "\n",
    "This is the second set of followup questions\n",
    "\n",
    "{response_two}\n",
    "\n",
    "Write some reasoning, end your response with one for the following\n",
    "- Set <label>one</label> is better.\n",
    "- Set <label>two</label> is better.\n",
    "- Both sets <label>tie</label>.\n",
    "\"\"\".strip()"
   ]
  },
  {
   "cell_type": "markdown",
   "id": "bac30939",
   "metadata": {},
   "source": [
    "# Judge classification prompt"
   ]
  },
  {
   "cell_type": "code",
   "execution_count": 7,
   "id": "e326505e",
   "metadata": {},
   "outputs": [],
   "source": [
    "# We assume that we trust this prompt\n",
    "judge_classification_prompt = JUDGE_CLASSIFICATION_PROMPT\n",
    "\n",
    "def judge_classification(\n",
    "    input_content: str,\n",
    "    response_one: str,\n",
    "    response_two: str,\n",
    ") -> tuple[str, str]:\n",
    "    # return either one, two or tie\n",
    "    \n",
    "    message = client.messages.create(\n",
    "        model=\"claude-3-5-sonnet-20241022\",\n",
    "        max_tokens=1024,\n",
    "        messages=[\n",
    "            {\n",
    "                \"role\": \"user\", \n",
    "                \"content\": judge_classification_prompt.format(\n",
    "                    input_content=input_content,\n",
    "                    response_one=response_one,\n",
    "                    response_two=response_two,\n",
    "                )\n",
    "            },\n",
    "        ],\n",
    "    )\n",
    "    message_text = message.content[0].text\n",
    "    if \"<label>one</label>\" in message_text:\n",
    "        return message_text, \"one\"\n",
    "    if \"<label>two</label>\" in message_text:\n",
    "        return message_text, \"two\"\n",
    "    return message_text, \"tie\""
   ]
  },
  {
   "cell_type": "code",
   "execution_count": 8,
   "id": "405c66ef",
   "metadata": {},
   "outputs": [],
   "source": [
    "input_content = \"\"\"\n",
    "Why do AI image generators have so much trouble rendering hands?\n",
    "\n",
    "Tong Hui Kang\n",
    "Machine Learning Engineer in Recommendations\n",
    "The current AI image generators are not rewarded for drawing hands well.\n",
    "The training input for image models is a huge set of images and their captions. The objective here is to fit a function f(caption) -> image, by minimizing some loss function L(caption, image).\n",
    "L(caption, image) is high when the image is unrelated to the caption, and L(caption, image) is low when the image is very related to the caption. The image generation model is trained to minimize L(caption, image).\n",
    "However, L(caption, image) might be high for images with deformities, because L(caption, image) might only measure whether the image is related to the caption.\n",
    "If you don’t penalize deformities in the training, you can’t generate images free-of-deformities. As of my current understanding, generating images without deformities is still an open question.\n",
    "\"\"\".strip()\n",
    "\n",
    "response_one = \"\"\"\n",
    "<question>What are some AI image generation models?</question>\n",
    "\n",
    "<question>Where can I find the training set for the image models?</question>\n",
    "\n",
    "<question>What are some ways to improve the quality of AI-generated images?</question>\n",
    "\n",
    "<question>What is the role of captions in AI image generation?</question>\n",
    "\n",
    "<question>What techniques have researchers tried so far to address the hand rendering problem?</question>\n",
    "\"\"\"\n",
    "\n",
    "response_two = \"\"\"\n",
    "<question>How do we reward AI image generators to draw hands correction?</question>\n",
    "\n",
    "<question>Why are hands particularly challenging compared to other anatomical features?</question>\n",
    "\n",
    "<question>What preprocessing techniques have worked best for curating training datasets that lead to better hand renderings?</question>\n",
    "\n",
    "<question>What specific loss functions have you found most effective for detecting and penalizing anatomical deformities in AI-generated images?</question>\n",
    "\n",
    "<question>How do different AI image generation models (like Stable Diffusion, DALL-E, Midjourney) compare in their ability to render hands?</question>\n",
    "\"\"\""
   ]
  },
  {
   "cell_type": "code",
   "execution_count": 9,
   "id": "e584b04d",
   "metadata": {},
   "outputs": [],
   "source": [
    "justification, judgement = judge_classification(\n",
    "    input_content=input_content,\n",
    "    response_one=response_one,\n",
    "    response_two=response_two,\n",
    ")"
   ]
  },
  {
   "cell_type": "code",
   "execution_count": 10,
   "id": "6ecb8a6e",
   "metadata": {},
   "outputs": [
    {
     "data": {
      "text/plain": [
       "'two'"
      ]
     },
     "execution_count": 10,
     "metadata": {},
     "output_type": "execute_result"
    }
   ],
   "source": [
    "judgement"
   ]
  },
  {
   "cell_type": "code",
   "execution_count": 11,
   "id": "eee2a54b",
   "metadata": {},
   "outputs": [
    {
     "name": "stdout",
     "output_type": "stream",
     "text": [
      "Let me analyze both sets:\n",
      "\n",
      "Set 1:\n",
      "- Questions are clear and concise\n",
      "- Questions are quite generic and answers can be easily found online\n",
      "- Most questions don't directly build on the specific topic of hand rendering issues\n",
      "- Questions feel disconnected from the technical depth of the original answer\n",
      "\n",
      "Set 2:\n",
      "- Questions are specifically focused on the hand rendering problem\n",
      "- Questions build naturally from the technical explanation given in the answer\n",
      "- Questions delve deeper into the specific challenges and solutions\n",
      "- Questions ask for experiential knowledge that would be valuable to others interested in this topic\n",
      "- Questions address practical aspects of implementation and comparison\n",
      "\n",
      "Looking at the specific problems mentioned:\n",
      "- Neither set has ambiguous references\n",
      "- Neither set uses unnecessary words\n",
      "- Set 2 has more distinct questions while Set 1 has some overlap\n",
      "- Set 2 asks for knowledge that would be harder to find through simple online searches\n",
      "- Set 2's questions are more likely to get detailed responses from someone with hands-on experience\n",
      "- Set 2's questions maintain the technical depth of the original answer and would be more interesting to the same audience\n",
      "\n",
      "The second set feels more cohesive with the original answer's technical nature and focuses specifically on the hand rendering problem while maintaining the discussion about loss functions, training, and model behavior.\n",
      "\n",
      "<label>two</label> is better.\n"
     ]
    }
   ],
   "source": [
    "print(justification)"
   ]
  },
  {
   "cell_type": "code",
   "execution_count": 12,
   "id": "81927dd2",
   "metadata": {},
   "outputs": [],
   "source": [
    "justification, judgement = judge_classification(\n",
    "    input_content=input_content,\n",
    "    response_one=response_two,  # swapped\n",
    "    response_two=response_one,  # swapped\n",
    ")"
   ]
  },
  {
   "cell_type": "code",
   "execution_count": 13,
   "id": "a8c231e5",
   "metadata": {},
   "outputs": [
    {
     "data": {
      "text/plain": [
       "'one'"
      ]
     },
     "execution_count": 13,
     "metadata": {},
     "output_type": "execute_result"
    }
   ],
   "source": [
    "judgement"
   ]
  },
  {
   "cell_type": "code",
   "execution_count": 14,
   "id": "cc1640f8",
   "metadata": {},
   "outputs": [
    {
     "name": "stdout",
     "output_type": "stream",
     "text": [
      "Let me analyze both sets:\n",
      "\n",
      "Set 1:\n",
      "- Questions are specific and focused on the hand rendering problem\n",
      "- All questions naturally follow from the source answer\n",
      "- Questions seek expert knowledge that isn't easily Googled\n",
      "- The questions are distinct from each other\n",
      "- Someone interested in AI image generation would be very interested in these answers\n",
      "- No ambiguous references\n",
      "- Questions are concise\n",
      "\n",
      "Set 2:\n",
      "- Questions are more general about AI image generation\n",
      "- Some questions are too basic and can be easily searched online (e.g., \"What are some AI image generation models?\")\n",
      "- Questions are less focused on the specific problem of hand rendering\n",
      "- The questions are distinct but several seem to diverge from the main topic\n",
      "- Questions are concise\n",
      "- No ambiguous references\n",
      "\n",
      "Reasoning:\n",
      "1. Set 1 maintains focus on the specific problem of hand rendering while Set 2 drifts into general AI image generation topics\n",
      "2. Set 1's questions require expert knowledge and experience, while Set 2's questions could largely be answered through simple research\n",
      "3. Set 1's questions build directly on the concepts mentioned in the source answer (loss functions, training rewards, anatomical challenges)\n",
      "4. Set 1 would be more valuable to readers interested in understanding and solving the specific hand rendering problem\n",
      "5. Neither set has the bad characteristics, but Set 1 better exhibits the positive characteristics for good followup questions\n",
      "\n",
      "Set <label>one</label> is better.\n"
     ]
    }
   ],
   "source": [
    "print(justification)"
   ]
  },
  {
   "cell_type": "markdown",
   "id": "ef5b7b13",
   "metadata": {},
   "source": [
    "# Generation prompt"
   ]
  },
  {
   "cell_type": "code",
   "execution_count": 15,
   "id": "e9f3a746",
   "metadata": {},
   "outputs": [],
   "source": [
    "def generation(\n",
    "    generation_prompt: str,\n",
    "    input_content: str,\n",
    ") -> str:\n",
    "    try:\n",
    "        generation_prompt_with_inputs = generation_prompt.format(\n",
    "            input_content=input_content,\n",
    "        )\n",
    "    except:\n",
    "        return \"{input_content} should appear in the prompt\"\n",
    "\n",
    "    message = client.messages.create(\n",
    "        model=\"claude-3-5-sonnet-20241022\",\n",
    "        max_tokens=1024,\n",
    "        messages=[\n",
    "            {\n",
    "                \"role\": \"user\", \n",
    "                \"content\": generation_prompt_with_inputs\n",
    "            },\n",
    "        ],\n",
    "        stop_sequences=[\"</questions>\"],\n",
    "    )\n",
    "    message_text = message.content[0].text\n",
    "    return message_text"
   ]
  },
  {
   "cell_type": "code",
   "execution_count": 16,
   "id": "d80ec16a",
   "metadata": {},
   "outputs": [],
   "source": [
    "response = generation(INITIAL_GENERATION_PROMPT, input_content)"
   ]
  },
  {
   "cell_type": "code",
   "execution_count": 17,
   "id": "9616ac7c",
   "metadata": {},
   "outputs": [
    {
     "name": "stdout",
     "output_type": "stream",
     "text": [
      "<questions>\n",
      "\n",
      "<question>\n",
      "What specific loss functions are commonly used in AI image generation models to measure the relationship between captions and images?\n",
      "</question>\n",
      "\n",
      "<question>\n",
      "How could the loss function be modified to explicitly penalize anatomical deformities like incorrect hand rendering?\n",
      "</question>\n",
      "\n",
      "<question>\n",
      "Are there any current research efforts or proposed solutions to address the problem of deformities in AI-generated images?\n",
      "</question>\n",
      "\n",
      "<question>\n",
      "Do other complex anatomical features (like faces or feet) face similar rendering challenges, or is this issue unique to hands?\n",
      "</question>\n",
      "\n",
      "<question>\n",
      "Could using specialized training datasets focused on hands and hand movements help improve the accuracy of hand rendering in AI image generators?\n",
      "</question>\n",
      "\n",
      "\n"
     ]
    }
   ],
   "source": [
    "print(response)"
   ]
  },
  {
   "cell_type": "markdown",
   "id": "9fea477c",
   "metadata": {},
   "source": [
    "# Win rate calculation"
   ]
  },
  {
   "cell_type": "code",
   "execution_count": 18,
   "id": "65585c5c",
   "metadata": {},
   "outputs": [],
   "source": [
    "import concurrent.futures\n",
    "\n",
    "@cache\n",
    "def calculate_winrate(\n",
    "    input_contents: tuple[str],\n",
    "    generation_prompt_one: str,\n",
    "    generation_prompt_two: str,\n",
    "):\n",
    "    one_win = 0 \n",
    "    two_win = 0\n",
    "\n",
    "    one_wins_judgements = []\n",
    "    one_loses_judgements = []\n",
    "    two_wins_judgements = []\n",
    "    two_loses_judgements = []\n",
    "    one_tie_judgements = []\n",
    "    two_tie_judgements = []\n",
    "    \n",
    "    def calculate_winrate_single(input_content, index):\n",
    "        response_one = generation(\n",
    "            generation_prompt=generation_prompt_one,\n",
    "            input_content=input_content,\n",
    "        )\n",
    "        response_two = generation(\n",
    "            generation_prompt=generation_prompt_two,\n",
    "            input_content=input_content,\n",
    "        )\n",
    "        flipped = (index%2 == 1)\n",
    "        if not flipped:\n",
    "            justification, judgement = judge_classification(\n",
    "                input_content=input_content,\n",
    "                response_one=response_one,\n",
    "                response_two=response_two,\n",
    "            )\n",
    "        else:\n",
    "            justification, judgement = judge_classification(\n",
    "                input_content=input_content,\n",
    "                response_one=response_two,\n",
    "                response_two=response_one,\n",
    "            )\n",
    "        return justification, judgement, flipped\n",
    "        \n",
    "    \n",
    "    with concurrent.futures.ThreadPoolExecutor(max_workers=20) as executor:\n",
    "        results = executor.map(calculate_winrate_single, input_contents, list(range(len(input_contents))))\n",
    "        results = list(results)    \n",
    "    \n",
    "    for justification, judgement, flipped in results:\n",
    "        if not flipped:\n",
    "            if judgement == \"one\":\n",
    "                one_win += 1\n",
    "                one_wins_judgements.append(justification)\n",
    "                two_loses_judgements.append(justification)\n",
    "            elif judgement == \"two\":\n",
    "                two_win += 1\n",
    "                two_wins_judgements.append(justification)\n",
    "                one_loses_judgements.append(justification)\n",
    "            else:\n",
    "                one_win += 1/2\n",
    "                two_win += 1/2\n",
    "                one_tie_judgements.append(justification)\n",
    "                two_tie_judgements.append(justification)\n",
    "        else:\n",
    "            if judgement == \"two\":\n",
    "                one_win += 1\n",
    "                one_wins_judgements.append(justification)\n",
    "                two_loses_judgements.append(justification)\n",
    "            elif judgement == \"one\":\n",
    "                two_win += 1\n",
    "                two_wins_judgements.append(justification)\n",
    "                one_loses_judgements.append(justification)\n",
    "            else:\n",
    "                one_win += 1/2\n",
    "                two_win += 1/2\n",
    "                one_tie_judgements.append(justification)\n",
    "                two_tie_judgements.append(justification)\n",
    "    return (\n",
    "        (\n",
    "            one_win / (one_win + two_win),\n",
    "            one_wins_judgements,\n",
    "            one_tie_judgements,\n",
    "            one_loses_judgements,\n",
    "        ),\n",
    "        (\n",
    "            two_win / (one_win + two_win),\n",
    "            two_wins_judgements,\n",
    "            two_tie_judgements,\n",
    "            two_loses_judgements,\n",
    "        ),\n",
    "    )"
   ]
  },
  {
   "cell_type": "code",
   "execution_count": 19,
   "id": "92be4a7f",
   "metadata": {},
   "outputs": [],
   "source": [
    "evaluation_one, evaluation_two = calculate_winrate(\n",
    "    input_contents = INPUT_CONTENTS,\n",
    "    generation_prompt_one = INITIAL_GENERATION_PROMPT,\n",
    "    generation_prompt_two = INITIAL_GENERATION_PROMPT,\n",
    ")"
   ]
  },
  {
   "cell_type": "code",
   "execution_count": 20,
   "id": "5c4eee7b",
   "metadata": {},
   "outputs": [
    {
     "name": "stdout",
     "output_type": "stream",
     "text": [
      "(0.6, [\"Let me analyze both sets:\\n\\nFirst Set:\\n- Questions are clear and focused\\n- No ambiguous references\\n- Questions follow logically from the source answer\\n- Questions are technically specific\\n- Questions address different aspects (training, challenges, loss function, research, datasets)\\n\\nSecond Set:\\n- Questions are also clear and focused\\n- No ambiguous references\\n- Some questions overlap with each other (questions about datasets appear twice)\\n- Questions are slightly more repetit\n"
     ]
    }
   ],
   "source": [
    "print(str(evaluation_one)[:500])"
   ]
  },
  {
   "cell_type": "markdown",
   "id": "efabd546",
   "metadata": {},
   "source": [
    "# Prompt optimization"
   ]
  },
  {
   "cell_type": "code",
   "execution_count": 21,
   "id": "9abc71cc",
   "metadata": {},
   "outputs": [],
   "source": [
    "evaluation_string_template = \"\"\"\n",
    "Winrate: {winrate}\n",
    "Cases where the prompt won: {win_judgements}\n",
    "Cases where the prompt ties: {tie_judgements}\n",
    "Cases where the prompt loses: {lose_judgements}\n",
    "\"\"\""
   ]
  },
  {
   "cell_type": "code",
   "execution_count": 22,
   "id": "7dc7f8fb",
   "metadata": {},
   "outputs": [],
   "source": [
    "optimization_prompt_template = \"\"\"\n",
    "Improve the generation prompt according to the feedback\n",
    "\n",
    "<current_generation_prompt>\n",
    "{generation_prompt}\n",
    "</current_generation_prompt>\n",
    "\n",
    "<feedback>\n",
    "{evaluation_string}\n",
    "</feedback>\n",
    "\n",
    "This is the judging criteria\n",
    "<judging_criteria>\n",
    "{judging_criteria}\n",
    "</judging_criteria>\n",
    "\n",
    "Summarize the changes that you intend to make, and return the new prompt between <prompt> and </prompt>.\n",
    "\"\"\".strip()"
   ]
  },
  {
   "cell_type": "code",
   "execution_count": 23,
   "id": "6c644c73",
   "metadata": {},
   "outputs": [],
   "source": [
    "def optimization(\n",
    "    generation_prompt: str,\n",
    "    evaluations: list, \n",
    ") -> str:\n",
    "    evaluation_string = \"\"\n",
    "    for evaluation in evaluations:\n",
    "        winrate, win_judgements, tie_judgements, lose_judgements = evaluation\n",
    "        evaluation_string_single = evaluation_string_template.format(\n",
    "            winrate=winrate,\n",
    "            win_judgements=win_judgements,\n",
    "            tie_judgements=tie_judgements,\n",
    "            lose_judgements=lose_judgements,\n",
    "        )\n",
    "        evaluation_string += evaluation_string_single\n",
    "\n",
    "    optimization_prompt = optimization_prompt_template.format(\n",
    "        generation_prompt=generation_prompt,\n",
    "        evaluation_string=evaluation_string,\n",
    "        judging_criteria=JUDGE_CLASSIFICATION_PROMPT,\n",
    "    )\n",
    "\n",
    "    message = client.messages.create(\n",
    "        model=\"claude-3-5-sonnet-20241022\",\n",
    "        max_tokens=1024,\n",
    "        messages=[\n",
    "            {\n",
    "                \"role\": \"user\", \n",
    "                \"content\": optimization_prompt\n",
    "            },\n",
    "        ]\n",
    "    )\n",
    "    \n",
    "    optimization_response = message.content[0].text\n",
    "    optimized_prompt = extract_from_tags(optimization_response, tag_string=\"prompt\")\n",
    "    \n",
    "    return optimization_response, optimized_prompt"
   ]
  },
  {
   "cell_type": "code",
   "execution_count": 24,
   "id": "d6e77b32",
   "metadata": {},
   "outputs": [],
   "source": [
    "import re\n",
    "def extract_from_tags(text, tag_string=\"prompt\"):\n",
    "    pattern = f'<{tag_string}>(.*?)</{tag_string}>'\n",
    "    match = re.search(pattern, text, re.DOTALL)\n",
    "    if match:\n",
    "        return match.group(1).strip()\n",
    "    else:\n",
    "        return ''"
   ]
  },
  {
   "cell_type": "code",
   "execution_count": 25,
   "id": "dafa2d3c",
   "metadata": {},
   "outputs": [],
   "source": [
    "optimization_response, optimized_prompt = optimization(INITIAL_GENERATION_PROMPT, [evaluation_one])"
   ]
  },
  {
   "cell_type": "code",
   "execution_count": 26,
   "id": "db3da27a",
   "metadata": {},
   "outputs": [
    {
     "name": "stdout",
     "output_type": "stream",
     "text": [
      "Based on the feedback, I'll make the following improvements to the generation prompt:\n",
      "\n",
      "1. Add specific guidance about avoiding ambiguous references\n",
      "2. Emphasize the need for concise questions without unnecessary words\n",
      "3. Add criteria for good questions:\n",
      "   - Questions should be distinct from each other\n",
      "   - Questions should ask for knowledge not easily found online\n",
      "   - Questions should be within the author's likely expertise\n",
      "   - Questions should maintain relevance to the original topic\n",
      "4. Add structure to guide progression from basic to more complex aspects\n",
      "5. Encourage a mix of theoretical and practical questions when applicable\n",
      "\n",
      "Here's the improved prompt:\n",
      "\n",
      "<prompt>\n",
      "You are given the following source question and a source answer.\n",
      "\n",
      "<source_question_and_answer>\n",
      "{input_content}\n",
      "</source_question_and_answer>\n",
      "\n",
      "Write 5 followup questions to the answer. Your questions should:\n",
      "- Be distinct from each other without overlap\n",
      "- Ask for knowledge that isn't easily found through online searches\n",
      "\n"
     ]
    }
   ],
   "source": [
    "print(optimization_response[:1000])"
   ]
  },
  {
   "cell_type": "code",
   "execution_count": 27,
   "id": "5c94a57b",
   "metadata": {},
   "outputs": [
    {
     "name": "stdout",
     "output_type": "stream",
     "text": [
      "You are given the following source question and a source answer.\n",
      "\n",
      "<source_question_and_answer>\n",
      "{input_content}\n",
      "</source_question_and_answer>\n",
      "\n",
      "Write 5 followup questions to the answer. Your questions should:\n",
      "- Be distinct from each other without overlap\n",
      "- Ask for knowledge that isn't easily found through online searches\n",
      "- Be within the author's likely expertise based on their answer\n",
      "- Be relevant and interesting to people who care about the original question\n",
      "- Progress naturally from basic to more complex aspects\n",
      "- Include both theoretical and practical aspects when applicable\n",
      "- Avoid any ambiguous references that require additional context\n",
      "- Be concise without unnecessary words\n",
      "\n",
      "Reply in this format:\n",
      "\n",
      "<questions>\n",
      "\n",
      "<question>\n",
      "question\n",
      "</question>\n",
      "\n",
      "...\n",
      "\n",
      "</questions>\n"
     ]
    }
   ],
   "source": [
    "print(optimized_prompt)"
   ]
  },
  {
   "cell_type": "markdown",
   "id": "c40d7ce0",
   "metadata": {},
   "source": [
    "# Iterative optimization"
   ]
  },
  {
   "cell_type": "code",
   "execution_count": 28,
   "id": "62555865",
   "metadata": {},
   "outputs": [],
   "source": [
    "generation_prompts = [INITIAL_GENERATION_PROMPT, INITIAL_GENERATION_PROMPT]"
   ]
  },
  {
   "cell_type": "code",
   "execution_count": 29,
   "id": "5988573b",
   "metadata": {
    "scrolled": false
   },
   "outputs": [
    {
     "name": "stdout",
     "output_type": "stream",
     "text": [
      "You are given the following source question and a source answer.\n",
      "\n",
      "<source_question_and_answer>\n",
      "{input_content}\n",
      "</source_question_and_answer>\n",
      "\n",
      "Write 5 followup questions to the answer. Follow these guidelines:\n",
      "\n",
      "1. Questions must be clear and specific without requiring context to understand\n",
      "2. Use concise language without unnecessary words\n",
      "3. Each question should be distinct from the others\n",
      "4. Focus on insights and knowledge that would be hard to find through a simple web search\n",
      "5. Questions should be within the author's expertise and experience based on their answer\n",
      "6. Questions should interest people who came looking for the original question's answer\n",
      "\n",
      "Reply in this format:\n",
      "\n",
      "<questions>\n",
      "\n",
      "<question>\n",
      "question\n",
      "</question>\n",
      "\n",
      "...\n",
      "\n",
      "</questions>\n",
      "---\n",
      "You are given the following source question and a source answer.\n",
      "\n",
      "<source_question_and_answer>\n",
      "{input_content}\n",
      "</source_question_and_answer>\n",
      "\n",
      "Write 5 followup questions to the answer. Follow these guidelines:\n",
      "\n",
      "1. Questions must be clear and specific without requiring context to understand\n",
      "2. Use concise language without unnecessary words\n",
      "3. Each question should be distinct from the others\n",
      "4. Focus on insights and knowledge that would be hard to find through a simple web search\n",
      "5. Questions should be within the author's expertise and experience based on their answer\n",
      "6. Questions should interest people who came looking for the original question's answer\n",
      "7. Include a balanced mix of:\n",
      "   - Technical and practical aspects\n",
      "   - Implementation details and broader implications\n",
      "   - Immediate concerns and long-term considerations\n",
      "8. Questions should follow a logical progression:\n",
      "   - Start with foundational aspects\n",
      "   - Build toward more complex topics\n",
      "   - Include comparative analysis where relevant\n",
      "\n",
      "Reply in this format:\n",
      "\n",
      "<questions>\n",
      "\n",
      "<question>\n",
      "question\n",
      "</question>\n",
      "\n",
      "...\n",
      "\n",
      "</questions>\n",
      "---\n",
      "You are given the following source question and a source answer.\n",
      "\n",
      "<source_question_and_answer>\n",
      "{input_content}\n",
      "</source_question_and_answer>\n",
      "\n",
      "Write 5 followup questions to the answer. Follow these guidelines:\n",
      "\n",
      "1. Questions must be clear and specific without requiring context to understand\n",
      "2. Use concise language without unnecessary words\n",
      "3. Each question should be distinct from the others\n",
      "4. Questions should build directly on specific points, examples, or scenarios mentioned in the answer\n",
      "5. Focus on insights that require the author's personal experience to answer\n",
      "6. Balance technical depth with practical applicability\n",
      "7. Maintain strong relevance to the original discussion while exploring deeper implications\n",
      "8. Questions should follow this progression:\n",
      "   - Start with fundamental aspects directly related to the answer\n",
      "   - Build toward implementation details and technical considerations\n",
      "   - End with strategic insights or comparative analysis\n",
      "   - Each question should naturally flow from the previous ones\n",
      "\n",
      "Reply in this format:\n",
      "\n",
      "<questions>\n",
      "\n",
      "<question>\n",
      "question\n",
      "</question>\n",
      "\n",
      "...\n",
      "\n",
      "</questions>\n",
      "---\n"
     ]
    }
   ],
   "source": [
    "import random\n",
    "for _ in range(3):\n",
    "    generation_prompt_latest = generation_prompts[-1]\n",
    "    evaluations = []\n",
    "    for generation_prompt_old in generation_prompts[:-1]:\n",
    "        input_contents = tuple(random.sample(INPUT_CONTENTS, min(20, len(INPUT_CONTENTS))))\n",
    "        _, evaluation = calculate_winrate(\n",
    "            input_contents,\n",
    "            generation_prompt_old,\n",
    "            generation_prompt_latest,\n",
    "        )\n",
    "        evaluations.append(evaluation)\n",
    "\n",
    "    optimization_response, generation_prompt_new = optimization(generation_prompt_latest, evaluations)\n",
    "    generation_prompts.append(generation_prompt_new)\n",
    "    print(generation_prompt_new)\n",
    "    print(\"---\")"
   ]
  },
  {
   "cell_type": "markdown",
   "id": "c471a0d6",
   "metadata": {},
   "source": [
    "# Display winrate table"
   ]
  },
  {
   "cell_type": "code",
   "execution_count": 30,
   "id": "8cf806e9",
   "metadata": {},
   "outputs": [],
   "source": [
    "import numpy as np\n",
    "win_rate_matrix = [[np.nan for _ in generation_prompts] for _ in generation_prompts]\n",
    "\n",
    "input_contents = tuple(random.sample(INPUT_CONTENTS, min(20, len(INPUT_CONTENTS))))\n",
    "for one_idx, prompt_one in enumerate(generation_prompts):\n",
    "    for two_idx, prompt_two in enumerate(generation_prompts[one_idx+1:], start=one_idx+1):\n",
    "        evaluation_one, evaluation_two = calculate_winrate(\n",
    "            input_contents,\n",
    "            prompt_one,\n",
    "            prompt_two,\n",
    "        )\n",
    "        win_rate_one, _, _, _ = evaluation_one\n",
    "        win_rate_two, _, _, _ = evaluation_two\n",
    "        win_rate_matrix[one_idx][two_idx] = win_rate_one\n",
    "        win_rate_matrix[two_idx][one_idx] = win_rate_two"
   ]
  },
  {
   "cell_type": "code",
   "execution_count": 31,
   "id": "cca8721a",
   "metadata": {},
   "outputs": [
    {
     "data": {
      "text/plain": [
       "[[nan, 0.0, 0.2, 0.6, 0.4],\n",
       " [1.0, nan, 0.2, 0.6, 0.4],\n",
       " [0.8, 0.8, nan, 0.6, 0.0],\n",
       " [0.4, 0.4, 0.4, nan, 0.6],\n",
       " [0.6, 0.6, 1.0, 0.4, nan]]"
      ]
     },
     "execution_count": 31,
     "metadata": {},
     "output_type": "execute_result"
    }
   ],
   "source": [
    "win_rate_matrix"
   ]
  },
  {
   "cell_type": "code",
   "execution_count": 32,
   "id": "5f9669a5",
   "metadata": {},
   "outputs": [
    {
     "data": {
      "image/png": "[encoded data removed]",
      "text/plain": [
       "<Figure size 720x576 with 2 Axes>"
      ]
     },
     "metadata": {
      "needs_background": "light"
     },
     "output_type": "display_data"
    }
   ],
   "source": [
    "# Import necessary libraries\n",
    "import matplotlib.pyplot as plt\n",
    "import numpy as np\n",
    "\n",
    "# Convert the win_rate_matrix to a NumPy array for easier handling\n",
    "matrix = np.array(win_rate_matrix)\n",
    "\n",
    "# Determine the number of prompts\n",
    "num_prompts = len(generation_prompts)\n",
    "\n",
    "# Create a figure and axis for the heatmap\n",
    "plt.figure(figsize=(10, 8))\n",
    "im = plt.imshow(matrix, cmap='viridis')\n",
    "im.set_clim(0, 1)\n",
    "\n",
    "# Add a colorbar to show the scale\n",
    "cbar = plt.colorbar(im)\n",
    "cbar.set_label('Win Rate', rotation=270, labelpad=15)\n",
    "\n",
    "# Set the ticks and labels for x and y axes\n",
    "prompt_indices = range(num_prompts)\n",
    "plt.xticks(ticks=np.arange(num_prompts), labels=prompt_indices)\n",
    "plt.yticks(ticks=np.arange(num_prompts), labels=prompt_indices)\n",
    "\n",
    "# Label the axes\n",
    "plt.xlabel('Prompt Number')\n",
    "plt.ylabel('Prompt Number')\n",
    "plt.title('Win Rate Matrix Between Generation Prompts')\n",
    "\n",
    "# Rotate the x-axis labels if needed\n",
    "plt.xticks(rotation=45)\n",
    "\n",
    "# Annotate each cell with the win rate value\n",
    "for i in range(num_prompts):\n",
    "    for j in range(num_prompts):\n",
    "        text = f\"{matrix[i, j]:.2f}\"\n",
    "        plt.text(j, i, text, ha='center', va='center',\n",
    "                 color='white' if matrix[i, j] < 0.5 else 'black')\n",
    "\n",
    "# Adjust layout for better spacing\n",
    "plt.tight_layout()\n",
    "\n",
    "# Display the heatmap\n",
    "plt.show()"
   ]
  },
  {
   "cell_type": "markdown",
   "id": "d1af4883",
   "metadata": {},
   "source": [
    "# Conclusion\n",
    "You notice that the prompts keeps getting better, the each prompt is better than the previous prompt, according the the judge we assume we trust."
   ]
  },
  {
   "cell_type": "code",
   "execution_count": 33,
   "id": "455e57c7",
   "metadata": {},
   "outputs": [
    {
     "name": "stdout",
     "output_type": "stream",
     "text": [
      "Why do AI image generators have so much trouble rendering hands?\n",
      "\n",
      "Tong Hui Kang\n",
      "Machine Learning Engineer in Recommendations\n",
      "The current AI image generators are not rewarded for drawing hands well.\n",
      "The training input for image models is a huge set of images and their captions. The objective here is to fit a function f(caption) -> image, by minimizing some loss function L(caption, image).\n",
      "L(caption, image) is high when the image is unrelated to the caption, and L(caption, image) is low when the image is very related to the caption. The image generation model is trained to minimize L(caption, image).\n",
      "However, L(caption, image) might be high for images with deformities, because L(caption, image) might only measure whether the image is related to the caption.\n",
      "If you don’t penalize deformities in the training, you can’t generate images free-of-deformities. As of my current understanding, generating images without deformities is still an open question.\n"
     ]
    }
   ],
   "source": [
    "print(input_content)"
   ]
  },
  {
   "cell_type": "code",
   "execution_count": 34,
   "id": "3c350eaa",
   "metadata": {},
   "outputs": [],
   "source": [
    "response = generation(generation_prompts[0], input_content)"
   ]
  },
  {
   "cell_type": "code",
   "execution_count": 35,
   "id": "1d83228b",
   "metadata": {},
   "outputs": [
    {
     "name": "stdout",
     "output_type": "stream",
     "text": [
      "<questions>\n",
      "\n",
      "<question>\n",
      "How could AI image generators be modified to specifically penalize hand deformities during training?\n",
      "</question>\n",
      "\n",
      "<question>\n",
      "Are there specific loss functions being developed that can better detect and penalize anatomical irregularities in generated images?\n",
      "</question>\n",
      "\n",
      "<question>\n",
      "Why are hands particularly challenging compared to other body parts in AI image generation?\n",
      "</question>\n",
      "\n",
      "<question>\n",
      "Could using a specialized dataset focused on hand images and poses improve the generation of hands?\n",
      "</question>\n",
      "\n",
      "<question>\n",
      "Is there a way to incorporate anatomical rules or constraints into the image generation process to ensure more accurate hand rendering?\n",
      "</question>\n",
      "\n",
      "\n"
     ]
    }
   ],
   "source": [
    "print(response)"
   ]
  },
  {
   "cell_type": "code",
   "execution_count": 36,
   "id": "2e5aac28",
   "metadata": {},
   "outputs": [],
   "source": [
    "response = generation(generation_prompts[-1], input_content)"
   ]
  },
  {
   "cell_type": "code",
   "execution_count": 37,
   "id": "5e5abb39",
   "metadata": {
    "scrolled": false
   },
   "outputs": [
    {
     "name": "stdout",
     "output_type": "stream",
     "text": [
      "<questions>\n",
      "\n",
      "<question>\n",
      "How do current loss functions specifically measure the relationship between captions and images in AI image generation models?\n",
      "</question>\n",
      "\n",
      "<question>\n",
      "What alternative loss functions or metrics could be implemented to detect and penalize hand deformities during training?\n",
      "</question>\n",
      "\n",
      "<question>\n",
      "Have you observed any patterns in which types of hand positions or gestures are particularly challenging for AI image generators?\n",
      "</question>\n",
      "\n",
      "<question>\n",
      "What technical challenges would arise from implementing a specialized loss function focused on anatomical accuracy?\n",
      "</question>\n",
      "\n",
      "<question>\n",
      "How do modern image generation models compare to traditional computer vision approaches in handling complex anatomical structures like hands?\n",
      "</question>\n",
      "\n",
      "\n"
     ]
    }
   ],
   "source": [
    "print(response)"
   ]
  },
  {
   "cell_type": "code",
   "execution_count": null,
   "id": "a1685a08",
   "metadata": {},
   "outputs": [],
   "source": []
  }
 ],
 "metadata": {
  "kernelspec": {
   "display_name": "Python 3 (ipykernel)",
   "language": "python",
   "name": "python3"
  },
  "language_info": {
   "codemirror_mode": {
    "name": "ipython",
    "version": 3
   },
   "file_extension": ".py",
   "mimetype": "text/x-python",
   "name": "python",
   "nbconvert_exporter": "python",
   "pygments_lexer": "ipython3",
   "version": "3.9.7"
  }
 },
 "nbformat": 4,
 "nbformat_minor": 5
}
