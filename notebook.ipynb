{
 "cells": [
  {
   "cell_type": "markdown",
   "id": "61cc57a9",
   "metadata": {},
   "source": [
    "# Optimize a prompt that maximizes win rate\n",
    "\n",
    "Given\n",
    "- a certified judge classifier `JUDGE_CLASSIFICATION_PROMPT: str`\n",
    "- some input string data samples `INPUT_DATA_SAMPLES: tuple[str]`\n",
    "- initial prompt `INITIAL_GENERATION_PROMPT: str`\n",
    "\n",
    "Produce\n",
    "- a prompt with a good winrate (measured by the judge) against other prompts"
   ]
  },
  {
   "cell_type": "markdown",
   "id": "e745df71",
   "metadata": {},
   "source": [
    "## Example use case presented in this notebook\n",
    "\n",
    "Given a Quora answer, write followup questions to the answer.\n",
    "\n",
    "Great followup questions should be appealing to respond to and answers should be appealing to read."
   ]
  },
  {
   "cell_type": "markdown",
   "id": "b6a2166e",
   "metadata": {},
   "source": [
    "## Foreword\n",
    "\n",
    "Think of how the project manager interacts with the prompt engineer.\n",
    "\n",
    "The project manager does not need to provide examples of good output, just the criteria of what good output should be.\n",
    "\n",
    "Inspirations\n",
    "\n",
    "- Anthropic workbench https://console.anthropic.com/workbench/\n",
    "- Cohere prompt tuner https://cohere.com/blog/intro-prompt-tuner"
   ]
  },
  {
   "cell_type": "markdown",
   "id": "3e92d959",
   "metadata": {},
   "source": [
    "## Frequently asked questions\n",
    "\n",
    "Why don't you use the judge prompt in the generation prompt?\n",
    "- You can if you want. I expect models in the future to be iteratively think of the best reponse by iterative brainstorming responses and think which is the response is the best. The idea of prompt engineering is to get the model to learn the shortcut (output tokens are not free).\n",
    "\n",
    "Why don't you tune the `JUDGE_CLASSIFICATION_PROMPT`?\n",
    "- In this tool we assume that we trust `JUDGE_CLASSIFICATION_PROMPT`. You should tune this elsewhere."
   ]
  },
  {
   "cell_type": "code",
   "execution_count": 1,
   "id": "3f0444df",
   "metadata": {},
   "outputs": [],
   "source": [
    "from functools import cache\n",
    "\n",
    "import anthropic\n",
    "client = anthropic.Anthropic()"
   ]
  },
  {
   "cell_type": "markdown",
   "id": "19a5eac4",
   "metadata": {},
   "source": [
    "# Inputs for the tool user"
   ]
  },
  {
   "cell_type": "code",
   "execution_count": 2,
   "id": "802009e7",
   "metadata": {},
   "outputs": [
    {
     "data": {
      "text/html": [
       "<div>\n",
       "<style scoped>\n",
       "    .dataframe tbody tr th:only-of-type {\n",
       "        vertical-align: middle;\n",
       "    }\n",
       "\n",
       "    .dataframe tbody tr th {\n",
       "        vertical-align: top;\n",
       "    }\n",
       "\n",
       "    .dataframe thead th {\n",
       "        text-align: right;\n",
       "    }\n",
       "</style>\n",
       "<table border=\"1\" class=\"dataframe\">\n",
       "  <thead>\n",
       "    <tr style=\"text-align: right;\">\n",
       "      <th></th>\n",
       "      <th>source_question_and_answer</th>\n",
       "    </tr>\n",
       "  </thead>\n",
       "  <tbody>\n",
       "    <tr>\n",
       "      <th>0</th>\n",
       "      <td>How would you rate the success of the Olympic ...</td>\n",
       "    </tr>\n",
       "    <tr>\n",
       "      <th>1</th>\n",
       "      <td>Who is more of a pure talent, Lebron or Curry?...</td>\n",
       "    </tr>\n",
       "  </tbody>\n",
       "</table>\n",
       "</div>"
      ],
      "text/plain": [
       "                          source_question_and_answer\n",
       "0  How would you rate the success of the Olympic ...\n",
       "1  Who is more of a pure talent, Lebron or Curry?..."
      ]
     },
     "execution_count": 2,
     "metadata": {},
     "output_type": "execute_result"
    }
   ],
   "source": [
    "import pandas as pd\n",
    "df = pd.read_csv(\"source_questions_and_answers.csv\")\n",
    "df.head(2)"
   ]
  },
  {
   "cell_type": "code",
   "execution_count": 3,
   "id": "9f90cf32",
   "metadata": {},
   "outputs": [],
   "source": [
    "INPUT_DATA_SAMPLES: tuple[str] = tuple(df[\"source_question_and_answer\"])\n",
    "source_questions_and_answers = INPUT_DATA_SAMPLES"
   ]
  },
  {
   "cell_type": "code",
   "execution_count": 4,
   "id": "a2c36f77",
   "metadata": {},
   "outputs": [],
   "source": [
    "INITIAL_GENERATION_PROMPT = \"\"\"\n",
    "You are given the following source question and a source answer.\n",
    "\n",
    "<source_question_and_answer>\n",
    "{source_question_and_answer}\n",
    "</source_question_and_answer>\n",
    "\n",
    "Write between 3 to 5 followup questions to the answer.\n",
    "\n",
    "Return each question between <question> and </question>\n",
    "\"\"\".strip()"
   ]
  },
  {
   "cell_type": "code",
   "execution_count": 5,
   "id": "5b36cbda",
   "metadata": {},
   "outputs": [],
   "source": [
    "JUDGE_CLASSIFICATION_PROMPT = \"\"\"\n",
    "You are given an answer and two sets of followup questions.\n",
    "\n",
    "Determine which set of followup questions is better.\n",
    "\n",
    "The better set of followup questions should have these characteristics\n",
    "- Each question could be understood without context\n",
    "- Each question should be written concisely\n",
    "- Each question should appear between <question> and </question>\n",
    "- There should be between 3 to 5 questions.\n",
    "- Each question should be distinct.\n",
    "\n",
    "This is the source question and source answer\n",
    "<source_question_and_answer>\n",
    "{source_question_and_answer}\n",
    "</source_question_and_answer>\n",
    "\n",
    "This is the first set of followup questions\n",
    "\n",
    "{followup_questions_one}\n",
    "\n",
    "This is the second set of followup questions\n",
    "\n",
    "{followup_questions_two}\n",
    "\n",
    "Write some concise reasoning, end your response with one for the follow\n",
    "- Set <label>one</label> is better.\n",
    "- Set <label>two</label> is better.\n",
    "- Both sets <label>tie</label>.\n",
    "\"\"\".strip()"
   ]
  },
  {
   "cell_type": "markdown",
   "id": "231c4dd5",
   "metadata": {},
   "source": [
    "# Judge classification prompt"
   ]
  },
  {
   "cell_type": "code",
   "execution_count": 6,
   "id": "e326505e",
   "metadata": {},
   "outputs": [],
   "source": [
    "# We assume that we trust this prompt\n",
    "judge_classification_prompt = JUDGE_CLASSIFICATION_PROMPT\n",
    "\n",
    "def judge_classification(\n",
    "    source_question_and_answer: str,\n",
    "    followup_questions_one: str,\n",
    "    followup_questions_two: str,\n",
    ") -> tuple[str, str]:\n",
    "    # return either one, two or tie\n",
    "    \n",
    "    message = client.messages.create(\n",
    "        model=\"claude-3-5-sonnet-20241022\",\n",
    "        max_tokens=1024,\n",
    "        messages=[\n",
    "            {\n",
    "                \"role\": \"user\", \n",
    "                \"content\": judge_classification_prompt.format(\n",
    "                    source_question_and_answer=source_question_and_answer,\n",
    "                    followup_questions_one=followup_questions_one,\n",
    "                    followup_questions_two=followup_questions_two,\n",
    "                )\n",
    "            },\n",
    "        ]\n",
    "    )\n",
    "    message_text = message.content[0].text\n",
    "    if \"<label>one</label>\" in message_text:\n",
    "        return message_text, \"one\"\n",
    "    if \"<label>one</label>\" in message_text:\n",
    "        return message_text, \"two\"\n",
    "    return message_text, \"tie\""
   ]
  },
  {
   "cell_type": "code",
   "execution_count": 7,
   "id": "405c66ef",
   "metadata": {},
   "outputs": [],
   "source": [
    "source_question_and_answer = \"\"\"\n",
    "Who is more of a pure talent, Lebron or Curry?\n",
    "\n",
    "I saw a recent interview with Team USA, where basketball players shared when they first dunked. Some guys dunked at 11 or 12. A few were “late bloomers” who didn’t dunk until 17. Steph didn’t dunk until he was 19 years old.\n",
    "\n",
    "This kid’s never survived on talent. Never. He’s 6′3″ with shoes, four inches shorter than the NBA average. He’s got a solid vertical (35.5″) but would never have made it to the NBA if not for his shooting ability. His height plus his less “glamorous” college career made him a risky first-round pick. The Warriors grabbed him with the 7th pick. They had no idea\n",
    "\n",
    "Compare that to LeBron.\n",
    "\n",
    "He was a 6′7″ 16-year-old and unstoppable in high school. His numbers were unreal—not just the scoring, either, but the rebounding and passing, too. LeBron clocked a vertical north of 40 inches, more than enough to dunk on anybody in the league. The King didn’t need to really workshop his shooting until several years into his career. That’s talent.\n",
    "\n",
    "I mean no disrespect to either player. Steph’s still very talented and LeBron still put a LOT of work in. But if they both won the genetic lottery, Steph won $10 million and LeBron won $100 million. Guys like Steph happen. They just rarely have the same shooting foundation (thanks to an NBA father) and work ethic to pull off his career. Guys like LeBron are much rarer. But neither could have survived with just talent or skill. That’s no longer possible in the league.\n",
    "\"\"\".strip()\n",
    "\n",
    "followup_questions_one = \"\"\"\n",
    "<question>How do basketball players with high vertical leaps compare to those with less-than-average verticals?</question>\n",
    "\n",
    "<question>Is work ethic more important than natural talent in basketball?</question>\n",
    "\n",
    "<question>What are some examples of athletes who overcame physical limitations to achieve success?</question>\n",
    "\n",
    "<question>How important is it for basketball players to have a solid foundation in shooting?</question>\n",
    "\n",
    "<question>How has the role of talent and skill evolved in the NBA over time?</question>\n",
    "\"\"\"\n",
    "\n",
    "followup_questions_two = \"\"\"\n",
    "1. <question>How has the balance between natural talent and skill development evolved in the NBA over the past few decades, and are there other examples that illustrate this shift?</question>\n",
    "\n",
    "2. <question>You mentioned Curry's NBA father providing a shooting foundation - can you elaborate on other successful NBA players who had to overcome physical limitations through specialized skills passed down from family members?</question>\n",
    "\n",
    "3. <question>In your genetic lottery analogy, where would you place other current NBA superstars on the spectrum between Curry ($10M) and LeBron ($100M), and why?</question>\n",
    "\n",
    "4. <question>Given the contrast between early and late physical developers in basketball, what other \"late bloomers\" besides Curry have gone on to achieve NBA success despite not being early athletic standouts?</question>\n",
    "\"\"\""
   ]
  },
  {
   "cell_type": "code",
   "execution_count": 8,
   "id": "e584b04d",
   "metadata": {},
   "outputs": [],
   "source": [
    "justification, judgement = judge_classification(\n",
    "    source_question_and_answer,\n",
    "    followup_questions_one,\n",
    "    followup_questions_two,\n",
    ")"
   ]
  },
  {
   "cell_type": "code",
   "execution_count": 9,
   "id": "444d8354",
   "metadata": {},
   "outputs": [
    {
     "data": {
      "text/plain": [
       "'one'"
      ]
     },
     "execution_count": 9,
     "metadata": {},
     "output_type": "execute_result"
    }
   ],
   "source": [
    "judgement"
   ]
  },
  {
   "cell_type": "code",
   "execution_count": 10,
   "id": "7b44de31",
   "metadata": {},
   "outputs": [
    {
     "name": "stdout",
     "output_type": "stream",
     "text": [
      "Let me analyze both sets:\n",
      "\n",
      "Set 1:\n",
      "- Questions are concise and clear\n",
      "- Each question can stand alone without context\n",
      "- Covers different aspects (physical abilities, work ethic, success stories, fundamentals)\n",
      "- Has exactly 5 questions\n",
      "- Questions are distinct and focused\n",
      "\n",
      "Set 2:\n",
      "- Questions are lengthy and compound (containing multiple questions within one)\n",
      "- Requires context from the original answer to fully understand\n",
      "- Some questions directly reference specific parts of the answer\n",
      "- Has 4 questions\n",
      "- Questions are more specific but less versatile\n",
      "\n",
      "While both sets explore interesting angles, Set 1 is superior because:\n",
      "1. The questions are more universally applicable\n",
      "2. They're easier to understand\n",
      "3. They follow better question-writing practices\n",
      "4. They don't rely on the original context\n",
      "5. They're more concise while covering similar ground\n",
      "\n",
      "Set <label>one</label> is better.\n"
     ]
    }
   ],
   "source": [
    "print(justification)"
   ]
  },
  {
   "cell_type": "markdown",
   "id": "2ce72974",
   "metadata": {},
   "source": [
    "# Generation prompt"
   ]
  },
  {
   "cell_type": "code",
   "execution_count": 11,
   "id": "b02fcc71",
   "metadata": {},
   "outputs": [],
   "source": [
    "initial_generation_prompt = INITIAL_GENERATION_PROMPT"
   ]
  },
  {
   "cell_type": "code",
   "execution_count": 12,
   "id": "b764ba7c",
   "metadata": {},
   "outputs": [],
   "source": [
    "def generation(\n",
    "    generation_prompt: str,\n",
    "    source_question_and_answer: str,\n",
    ") -> str:\n",
    "    try:\n",
    "        generation_prompt_with_inputs = generation_prompt.format(\n",
    "            source_question_and_answer=source_question_and_answer,\n",
    "        )\n",
    "    except:\n",
    "        return \"{source_question_and_answer} should appear in the prompt\"\n",
    "    \n",
    "    message = client.messages.create(\n",
    "        model=\"claude-3-5-sonnet-20241022\",\n",
    "        max_tokens=1024,\n",
    "        messages=[\n",
    "            {\n",
    "                \"role\": \"user\", \n",
    "                \"content\": generation_prompt_with_inputs\n",
    "            },\n",
    "        ]\n",
    "    )\n",
    "    message_text = message.content[0].text\n",
    "    return message_text"
   ]
  },
  {
   "cell_type": "code",
   "execution_count": 13,
   "id": "c8dc1716",
   "metadata": {},
   "outputs": [],
   "source": [
    "followup_questions = generation(initial_generation_prompt, source_question_and_answer)"
   ]
  },
  {
   "cell_type": "code",
   "execution_count": 14,
   "id": "1b4ac4ae",
   "metadata": {},
   "outputs": [
    {
     "name": "stdout",
     "output_type": "stream",
     "text": [
      "<question>How did having Dell Curry as an NBA father influence Steph's shooting development and overall basketball career?</question>\n",
      "\n",
      "<question>Given LeBron's natural physical gifts, how did his game evolve when he started focusing more on improving his shooting later in his career?</question>\n",
      "\n",
      "<question>What role did the Warriors' decision to pick Curry 7th overall, despite his \"risky\" status, play in allowing him to develop into the player he became?</question>\n",
      "\n",
      "<question>How has the NBA evolved to require both natural talent and refined skills, making it impossible to succeed on just one of these attributes alone?</question>\n"
     ]
    }
   ],
   "source": [
    "print(followup_questions)"
   ]
  },
  {
   "cell_type": "markdown",
   "id": "f3280356",
   "metadata": {},
   "source": [
    "# Win rate calculation"
   ]
  },
  {
   "cell_type": "code",
   "execution_count": 15,
   "id": "65585c5c",
   "metadata": {},
   "outputs": [],
   "source": [
    "import concurrent.futures\n",
    "\n",
    "@cache\n",
    "def calculate_winrate(\n",
    "    source_questions_and_answers,\n",
    "    generation_prompt_one,\n",
    "    generation_prompt_two\n",
    "):\n",
    "    one_win = 0 \n",
    "    two_win = 0\n",
    "\n",
    "    one_wins_judgements = []\n",
    "    one_loses_judgements = []\n",
    "    two_wins_judgements = []\n",
    "    two_loses_judgements = []\n",
    "    one_tie_judgements = []\n",
    "    two_tie_judgements = []\n",
    "    \n",
    "    def calculate_winrate_single(source_question_and_answer):\n",
    "        followup_questions_one = generation(\n",
    "            generation_prompt=generation_prompt_one,\n",
    "            source_question_and_answer=source_question_and_answer,\n",
    "        )\n",
    "        followup_questions_two = generation(\n",
    "            generation_prompt=generation_prompt_two,\n",
    "            source_question_and_answer=source_question_and_answer,\n",
    "        )\n",
    "        justification, judgement = judge_classification(\n",
    "            source_question_and_answer=source_question_and_answer,\n",
    "            followup_questions_one=followup_questions_one,\n",
    "            followup_questions_two=followup_questions_two,\n",
    "        )\n",
    "        return justification, judgement\n",
    "        \n",
    "    \n",
    "    with concurrent.futures.ThreadPoolExecutor(max_workers=20) as executor:\n",
    "        results = executor.map(calculate_winrate_single, source_questions_and_answers)\n",
    "        results = list(results)    \n",
    "    \n",
    "    for justification, judgement in results:\n",
    "        if judgement == \"one\":\n",
    "            one_win += 1\n",
    "            one_wins_judgements.append(justification)\n",
    "            two_loses_judgements.append(justification)\n",
    "        elif judgement == \"two\":\n",
    "            two_win += 1\n",
    "            two_wins_judgements.append(justification)\n",
    "            one_loses_judgements.append(justification)\n",
    "        else:\n",
    "            one_win += 1/2\n",
    "            two_win += 1/2\n",
    "            one_tie_judgements.append(justification)\n",
    "            two_tie_judgements.append(justification)\n",
    "    return (\n",
    "        (\n",
    "            one_win / (one_win + two_win),\n",
    "            one_wins_judgements,\n",
    "            one_tie_judgements,\n",
    "            one_loses_judgements,\n",
    "        ),\n",
    "        (\n",
    "            two_win / (one_win + two_win),\n",
    "            two_wins_judgements,\n",
    "            two_tie_judgements,\n",
    "            two_loses_judgements,\n",
    "        ),\n",
    "    )"
   ]
  },
  {
   "cell_type": "code",
   "execution_count": 16,
   "id": "92be4a7f",
   "metadata": {},
   "outputs": [],
   "source": [
    "evaluation_one, evaluation_two = calculate_winrate(\n",
    "    source_questions_and_answers = source_questions_and_answers,\n",
    "    generation_prompt_one = initial_generation_prompt,\n",
    "    generation_prompt_two = initial_generation_prompt,\n",
    ")"
   ]
  },
  {
   "cell_type": "code",
   "execution_count": 17,
   "id": "fc8fbef2",
   "metadata": {},
   "outputs": [
    {
     "name": "stdout",
     "output_type": "stream",
     "text": [
      "(0.75, ['Let me analyze both sets:\\n\\nFirst Set:\\n- Questions are clear and can stand alone\\n- Concise wording\\n- Covers distinct aspects (mentorship, adaptation, physical requirements, league evolution)\\n- Well-structured with proper tags\\n- Maintains focus on the core themes from the answer\\n\\nSecond Set:\\n- Questions are longer and more complex\\n- Some questions contain multiple parts\\n- Questions require more context to understand\\n- Comparisons are more speculative\\n- Questions drift away f\n"
     ]
    }
   ],
   "source": [
    "print(str(evaluation_one)[:500])"
   ]
  },
  {
   "cell_type": "markdown",
   "id": "ab074494",
   "metadata": {},
   "source": [
    "# Prompt optimization"
   ]
  },
  {
   "cell_type": "code",
   "execution_count": 18,
   "id": "0b0aadff",
   "metadata": {},
   "outputs": [],
   "source": [
    "evaluation_string_template = \"\"\"\n",
    "Winrate: {winrate}\n",
    "Cases where the prompt won: {win_judgements}\n",
    "Cases where the prompt ties: {tie_judgements}\n",
    "Cases where the prompt loses: {lose_judgements}\n",
    "\"\"\""
   ]
  },
  {
   "cell_type": "code",
   "execution_count": 19,
   "id": "e4d74b56",
   "metadata": {},
   "outputs": [],
   "source": [
    "optimization_prompt_template = \"\"\"\n",
    "Improve the generation prompt according to the feedback\n",
    "\n",
    "{generation_prompt}\n",
    "\n",
    "{evaluation_string}\n",
    "\n",
    "Return the new prompt between <prompt> and </prompt>\n",
    "\"\"\".strip()"
   ]
  },
  {
   "cell_type": "code",
   "execution_count": 20,
   "id": "58130194",
   "metadata": {},
   "outputs": [],
   "source": [
    "def optimization(\n",
    "    generation_prompt: str,\n",
    "    evaluations: list, \n",
    ") -> str:\n",
    "    evaluation_string = \"\"\n",
    "    for evaluation in evaluations:\n",
    "        winrate, win_judgements, tie_judgements, lose_judgements = evaluation\n",
    "        evaluation_string_single = evaluation_string_template.format(\n",
    "            winrate=winrate,\n",
    "            win_judgements=win_judgements,\n",
    "            tie_judgements=tie_judgements,\n",
    "            lose_judgements=lose_judgements,\n",
    "        )\n",
    "        evaluation_string += evaluation_string_single\n",
    "\n",
    "    optimization_prompt = optimization_prompt_template.format(\n",
    "        generation_prompt=generation_prompt,\n",
    "        evaluation_string=evaluation_string,        \n",
    "    )        \n",
    "    \n",
    "    message = client.messages.create(\n",
    "        model=\"claude-3-5-sonnet-20241022\",\n",
    "        max_tokens=1024,\n",
    "        messages=[\n",
    "            {\n",
    "                \"role\": \"user\", \n",
    "                \"content\": optimization_prompt\n",
    "            },\n",
    "        ]\n",
    "    )\n",
    "    \n",
    "    optimization_response = message.content[0].text\n",
    "    optimized_prompt = extract_from_tags(optimization_response, tag_string=\"prompt\")\n",
    "    \n",
    "    return optimization_response, optimized_prompt"
   ]
  },
  {
   "cell_type": "code",
   "execution_count": 21,
   "id": "d28c5bfe",
   "metadata": {},
   "outputs": [],
   "source": [
    "import re\n",
    "def extract_from_tags(text, tag_string=\"prompt\"):\n",
    "    pattern = f'<{tag_string}>(.*?)</{tag_string}>'\n",
    "    match = re.search(pattern, text, re.DOTALL)\n",
    "    if match:\n",
    "        return match.group(1).strip()\n",
    "    else:\n",
    "        return ''"
   ]
  },
  {
   "cell_type": "code",
   "execution_count": 22,
   "id": "9c798e0c",
   "metadata": {},
   "outputs": [],
   "source": [
    "optimization_response, optimized_prompt = optimization(initial_generation_prompt, [evaluation_one])"
   ]
  },
  {
   "cell_type": "code",
   "execution_count": 23,
   "id": "89af0ee7",
   "metadata": {},
   "outputs": [
    {
     "name": "stdout",
     "output_type": "stream",
     "text": [
      "Based on the analysis of winning and tied cases, I'll create an improved prompt that incorporates the successful elements while addressing areas where ties occurred. The key improvements will focus on specificity, conciseness, and independence of questions.\n",
      "\n",
      "<prompt>\n",
      "You are given the following sour\n"
     ]
    }
   ],
   "source": [
    "print(optimization_response[:300])"
   ]
  },
  {
   "cell_type": "code",
   "execution_count": 24,
   "id": "970d4e09",
   "metadata": {},
   "outputs": [
    {
     "name": "stdout",
     "output_type": "stream",
     "text": [
      "You are given the following source question and a source answer.\n",
      "\n",
      "<source_question_and_answer>\n",
      "{source_question_and_answer}\n",
      "</source_question_and_answer>\n",
      "\n",
      "Write between 3 to 5 followup questions to the answer, following these criteria:\n",
      "1. Each question must be specific and focused on a single aspect\n",
      "2. Questions should be concise while maintaining clarity\n",
      "3. Each question must be able to stand alone without requiring context\n",
      "4. Questions should cover distinct aspects of the topic without overlap\n",
      "5. Questions should progress logically (e.g., from general to specific, or chronologically)\n",
      "\n",
      "Return each question between <question> and </question> tags, with no extra spacing between tags.\n"
     ]
    }
   ],
   "source": [
    "print(optimized_prompt)"
   ]
  },
  {
   "cell_type": "markdown",
   "id": "e839d9ec",
   "metadata": {},
   "source": [
    "# Iterative optimization"
   ]
  },
  {
   "cell_type": "code",
   "execution_count": 25,
   "id": "57702892",
   "metadata": {},
   "outputs": [],
   "source": [
    "generation_prompts = [initial_generation_prompt, initial_generation_prompt]"
   ]
  },
  {
   "cell_type": "code",
   "execution_count": 26,
   "id": "d77bb314",
   "metadata": {
    "scrolled": false
   },
   "outputs": [
    {
     "name": "stdout",
     "output_type": "stream",
     "text": [
      "You are given the following source question and a source answer.\n",
      "\n",
      "<source_question_and_answer>\n",
      "{source_question_and_answer}\n",
      "</source_question_and_answer>\n",
      "\n",
      "Write between 3 to 5 followup questions that meet these criteria:\n",
      "1. Each question must be concise and focused on a single specific aspect\n",
      "2. Questions must directly relate to content from the source material\n",
      "3. Each question must be able to stand alone without additional context\n",
      "4. Questions should be distinct from each other with no thematic overlap\n",
      "5. Avoid unnecessary words, qualifiers, or context within the questions\n",
      "6. Questions should follow a logical progression from specific to general topics\n",
      "\n",
      "Return each question between <question> and </question> tags.\n",
      "---\n",
      "You are given the following source question and a source answer.\n",
      "\n",
      "<source_question_and_answer>\n",
      "{source_question_and_answer}\n",
      "</source_question_and_answer>\n",
      "\n",
      "Write exactly 4 followup questions that meet these criteria:\n",
      "1. Each question must focus on a single, specific aspect from the source material\n",
      "2. Write questions that would be clear to someone who hasn't read the source\n",
      "3. Use minimal words while maintaining clarity - avoid any unnecessary context\n",
      "4. Ensure questions progress logically from specific details to broader concepts\n",
      "5. Questions must be answerable using only information from the source\n",
      "6. Make each question distinct with no thematic overlap\n",
      "\n",
      "Format guidelines:\n",
      "- Place each question between <question> and </question> tags\n",
      "- Keep questions under 15 words\n",
      "- Don't use phrases like \"in the text\" or \"you mentioned\"\n",
      "- Don't combine multiple questions into one\n",
      "---\n",
      "You are given the following source question and a source answer.\n",
      "\n",
      "<source_question_and_answer>\n",
      "{source_question_and_answer}\n",
      "</source_question_and_answer>\n",
      "\n",
      "Write exactly 4 followup questions that meet these criteria:\n",
      "1. Each question must focus on a single, specific point directly from the source material\n",
      "2. Make questions understandable to someone who hasn't read the source\n",
      "3. Use minimal words while maintaining clarity - aim for 8-12 words per question\n",
      "4. Questions must progress logically from basic facts to broader implications\n",
      "5. Each question must be answerable using only information from the source\n",
      "6. Ensure questions explore different aspects with no conceptual overlap\n",
      "\n",
      "Format requirements:\n",
      "- Place each question between <question> and </question> tags\n",
      "- Avoid phrases like \"in the text\" or \"you mentioned\"\n",
      "- Don't combine multiple questions into one\n",
      "- Don't ask for information not explicitly provided in the source\n",
      "---\n",
      "You are given the following source question and a source answer.\n",
      "\n",
      "<source_question_and_answer>\n",
      "{source_question_and_answer}\n",
      "</source_question_and_answer>\n",
      "\n",
      "Write exactly 4 followup questions that meet these criteria:\n",
      "1. Each question must focus on a single, specific point from the source material\n",
      "2. Make questions understandable without requiring additional context\n",
      "3. Use the most natural, clear language while maintaining conciseness\n",
      "4. Questions should progress from basic facts to broader implications\n",
      "5. Each question must be answerable using only information from the source\n",
      "6. Keep questions distinct while maintaining a logical connection to each other\n",
      "7. Target 8-12 words per question, avoiding unnecessary words\n",
      "8. Use technical/specialized terms only when they appear in the source\n",
      "\n",
      "Format requirements:\n",
      "- Place each question between <question> and </question> tags\n",
      "- Avoid phrases like \"in the text\" or \"according to\"\n",
      "- Don't combine multiple questions into one\n",
      "- Don't ask about information not explicitly provided in the source\n",
      "- Don't make assumptions beyond what's directly stated\n",
      "- Maintain consistent terminology throughout questions\n",
      "---\n",
      "You are given the following source question and a source answer.\n",
      "\n",
      "<source_question_and_answer>\n",
      "{source_question_and_answer}\n",
      "</source_question_and_answer>\n",
      "\n",
      "Write exactly 4 followup questions that meet these criteria:\n",
      "1. Each question must target a single, clear point directly mentioned in the source\n",
      "2. Questions must be completely understandable without any additional context\n",
      "3. Use simple, natural language while maintaining clarity and precision\n",
      "4. Progress from basic facts to broader implications within the source material\n",
      "5. Ensure each question can be fully answered using only the source information\n",
      "6. Keep questions distinct while maintaining logical connections between them\n",
      "7. Limit questions to 10-15 words each, prioritizing clarity over brevity\n",
      "8. Use technical terms only when they appear in and match the source's usage\n",
      "\n",
      "Format requirements:\n",
      "- Place each question between <question> and </question> tags\n",
      "- Make each question grammatically complete and standalone\n",
      "- Avoid phrases like \"in the text\" or \"according to the source\"\n",
      "- Focus on information explicitly stated rather than implied\n",
      "- Use proper nouns and specific terms exactly as they appear in the source\n",
      "- Balance specificity with natural language flow\n",
      "- Ensure consistent terminology across all questions\n",
      "- Start with the most concrete, factual questions before moving to broader concepts\n",
      "---\n"
     ]
    }
   ],
   "source": [
    "for _ in range(5):\n",
    "    generation_prompt_latest = generation_prompts[-1]\n",
    "    evaluations = []\n",
    "    for generation_prompt_old in generation_prompts[:-1]:\n",
    "        _, evaluation = calculate_winrate(\n",
    "            source_questions_and_answers,\n",
    "            generation_prompt_old,\n",
    "            generation_prompt_latest,\n",
    "        )\n",
    "        evaluations.append(evaluation)\n",
    "\n",
    "    optimization_response, generation_prompt_new = optimization(generation_prompt_latest, evaluations)\n",
    "    generation_prompts.append(generation_prompt_new)\n",
    "    print(generation_prompt_new)\n",
    "    print(\"---\")"
   ]
  },
  {
   "cell_type": "markdown",
   "id": "1e07d8d9",
   "metadata": {},
   "source": [
    "# Display winrate table"
   ]
  },
  {
   "cell_type": "code",
   "execution_count": 33,
   "id": "a2d309e1",
   "metadata": {},
   "outputs": [],
   "source": [
    "import numpy as np\n",
    "win_rate_matrix = [[np.nan for _ in generation_prompts] for _ in generation_prompts]\n",
    "\n",
    "for one_idx, prompt_one in enumerate(generation_prompts):\n",
    "    for two_idx, prompt_two in enumerate(generation_prompts[one_idx+1:], start=one_idx+1):\n",
    "        evaluation_one, evaluation_two = calculate_winrate(\n",
    "            source_questions_and_answers,\n",
    "            prompt_one,\n",
    "            prompt_two,\n",
    "        )\n",
    "        win_rate_one, _, _, _ = evaluation_one\n",
    "        win_rate_two, _, _, _ = evaluation_two\n",
    "        win_rate_matrix[one_idx][two_idx] = win_rate_one\n",
    "        win_rate_matrix[two_idx][one_idx] = win_rate_two"
   ]
  },
  {
   "cell_type": "code",
   "execution_count": 34,
   "id": "c2580d0b",
   "metadata": {},
   "outputs": [
    {
     "data": {
      "text/plain": [
       "[[nan, 0.85, 0.575, 0.625, 0.55, 0.575, 0.6],\n",
       " [0.15, nan, 0.575, 0.625, 0.55, 0.575, 0.6],\n",
       " [0.425, 0.425, nan, 0.675, 0.675, 0.65, 0.675],\n",
       " [0.375, 0.375, 0.325, nan, 0.775, 0.825, 0.85],\n",
       " [0.45, 0.45, 0.325, 0.225, nan, 0.725, 0.75],\n",
       " [0.425, 0.425, 0.35, 0.175, 0.275, nan, 0.725],\n",
       " [0.4, 0.4, 0.325, 0.15, 0.25, 0.275, nan]]"
      ]
     },
     "execution_count": 34,
     "metadata": {},
     "output_type": "execute_result"
    }
   ],
   "source": [
    "win_rate_matrix"
   ]
  },
  {
   "cell_type": "code",
   "execution_count": 35,
   "id": "fd3f29df",
   "metadata": {},
   "outputs": [
    {
     "data": {
      "image/png": "[encoded data removed]",
      "text/plain": [
       "<Figure size 720x576 with 2 Axes>"
      ]
     },
     "metadata": {
      "needs_background": "light"
     },
     "output_type": "display_data"
    }
   ],
   "source": [
    "# Import necessary libraries\n",
    "import matplotlib.pyplot as plt\n",
    "import numpy as np\n",
    "\n",
    "# Convert the win_rate_matrix to a NumPy array for easier handling\n",
    "matrix = np.array(win_rate_matrix)\n",
    "\n",
    "# Determine the number of prompts\n",
    "num_prompts = len(generation_prompts)\n",
    "\n",
    "# Create a figure and axis for the heatmap\n",
    "plt.figure(figsize=(10, 8))\n",
    "im = plt.imshow(matrix, cmap='viridis')\n",
    "\n",
    "# Add a colorbar to show the scale\n",
    "cbar = plt.colorbar(im)\n",
    "cbar.set_label('Win Rate', rotation=270, labelpad=15)\n",
    "\n",
    "# Set the ticks and labels for x and y axes\n",
    "prompt_indices = range(1, num_prompts + 1)\n",
    "plt.xticks(ticks=np.arange(num_prompts), labels=prompt_indices)\n",
    "plt.yticks(ticks=np.arange(num_prompts), labels=prompt_indices)\n",
    "\n",
    "# Label the axes\n",
    "plt.xlabel('Prompt Number')\n",
    "plt.ylabel('Prompt Number')\n",
    "plt.title('Win Rate Matrix Between Generation Prompts')\n",
    "\n",
    "# Rotate the x-axis labels if needed\n",
    "plt.xticks(rotation=45)\n",
    "\n",
    "# Annotate each cell with the win rate value\n",
    "for i in range(num_prompts):\n",
    "    for j in range(num_prompts):\n",
    "        text = f\"{matrix[i, j]:.2f}\"\n",
    "        plt.text(j, i, text, ha='center', va='center',\n",
    "                 color='white' if matrix[i, j] > 0.5 else 'black')\n",
    "\n",
    "# Adjust layout for better spacing\n",
    "plt.tight_layout()\n",
    "\n",
    "# Display the heatmap\n",
    "plt.show()"
   ]
  },
  {
   "cell_type": "code",
   "execution_count": null,
   "id": "412fe9e7",
   "metadata": {},
   "outputs": [],
   "source": []
  }
 ],
 "metadata": {
  "kernelspec": {
   "display_name": "Python 3 (ipykernel)",
   "language": "python",
   "name": "python3"
  },
  "language_info": {
   "codemirror_mode": {
    "name": "ipython",
    "version": 3
   },
   "file_extension": ".py",
   "mimetype": "text/x-python",
   "name": "python",
   "nbconvert_exporter": "python",
   "pygments_lexer": "ipython3",
   "version": "3.9.7"
  }
 },
 "nbformat": 4,
 "nbformat_minor": 5
}
